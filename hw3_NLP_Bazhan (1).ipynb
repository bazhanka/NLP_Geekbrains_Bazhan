{
  "cells": [
    {
      "cell_type": "markdown",
      "metadata": {
        "id": "vf80qXTfg1cx"
      },
      "source": [
        "### Векторные представления слов (word embeddings)"
      ]
    },
    {
      "cell_type": "code",
      "source": [
        "data = \"/content/kinopoisk-top250.csv\""
      ],
      "metadata": {
        "id": "8DSib4b3hF-P"
      },
      "execution_count": 5,
      "outputs": []
    },
    {
      "cell_type": "code",
      "source": [
        "import pandas as pd"
      ],
      "metadata": {
        "id": "qzcpmT4mhUa4"
      },
      "execution_count": 6,
      "outputs": []
    },
    {
      "cell_type": "code",
      "source": [
        "df = pd.read_csv(data)\n",
        "df.head()"
      ],
      "metadata": {
        "colab": {
          "base_uri": "https://localhost:8080/",
          "height": 825
        },
        "id": "Dr9cvC42hTpw",
        "outputId": "2c44cdfc-945f-4a34-ff79-3661d89a1b21"
      },
      "execution_count": 7,
      "outputs": [
        {
          "output_type": "execute_result",
          "data": {
            "text/html": [
              "\n",
              "  <div id=\"df-c6d02c88-2977-4a08-abe8-fbe2704b397b\">\n",
              "    <div class=\"colab-df-container\">\n",
              "      <div>\n",
              "<style scoped>\n",
              "    .dataframe tbody tr th:only-of-type {\n",
              "        vertical-align: middle;\n",
              "    }\n",
              "\n",
              "    .dataframe tbody tr th {\n",
              "        vertical-align: top;\n",
              "    }\n",
              "\n",
              "    .dataframe thead th {\n",
              "        text-align: right;\n",
              "    }\n",
              "</style>\n",
              "<table border=\"1\" class=\"dataframe\">\n",
              "  <thead>\n",
              "    <tr style=\"text-align: right;\">\n",
              "      <th></th>\n",
              "      <th>rating</th>\n",
              "      <th>movie</th>\n",
              "      <th>year</th>\n",
              "      <th>country</th>\n",
              "      <th>rating_ball</th>\n",
              "      <th>overview</th>\n",
              "      <th>director</th>\n",
              "      <th>screenwriter</th>\n",
              "      <th>actors</th>\n",
              "      <th>url_logo</th>\n",
              "    </tr>\n",
              "  </thead>\n",
              "  <tbody>\n",
              "    <tr>\n",
              "      <th>0</th>\n",
              "      <td>0</td>\n",
              "      <td>Побег из Шоушенка</td>\n",
              "      <td>1994</td>\n",
              "      <td>США</td>\n",
              "      <td>9.111</td>\n",
              "      <td>Бухгалтер Энди Дюфрейн обвинён в убийстве собс...</td>\n",
              "      <td>Фрэнк Дарабонт</td>\n",
              "      <td>Фрэнк Дарабонт;  Стивен Кинг</td>\n",
              "      <td>Тим Роббинс; Морган Фриман; Боб Гантон; Уильям...</td>\n",
              "      <td>'https://st.kp.yandex.net/images/film_iphone/i...</td>\n",
              "    </tr>\n",
              "    <tr>\n",
              "      <th>1</th>\n",
              "      <td>1</td>\n",
              "      <td>Зеленая миля</td>\n",
              "      <td>1999</td>\n",
              "      <td>США</td>\n",
              "      <td>9.062</td>\n",
              "      <td>Пол Эджкомб — начальник блока смертников в тюр...</td>\n",
              "      <td>Фрэнк Дарабонт</td>\n",
              "      <td>Фрэнк Дарабонт;  Стивен Кинг</td>\n",
              "      <td>Том Хэнкс; Дэвид Морс; Бонни Хант; Майкл Кларк...</td>\n",
              "      <td>'https://st.kp.yandex.net/images/film_iphone/i...</td>\n",
              "    </tr>\n",
              "    <tr>\n",
              "      <th>2</th>\n",
              "      <td>2</td>\n",
              "      <td>Форрест Гамп</td>\n",
              "      <td>1994</td>\n",
              "      <td>США</td>\n",
              "      <td>8.913</td>\n",
              "      <td>От лица главного героя Форреста Гампа; слабоум...</td>\n",
              "      <td>Роберт Земекис</td>\n",
              "      <td>Эрик Рот;  Уинстон Грум</td>\n",
              "      <td>Том Хэнкс; Робин Райт; Салли Филд; Гэри Синиз;...</td>\n",
              "      <td>'https://st.kp.yandex.net/images/film_iphone/i...</td>\n",
              "    </tr>\n",
              "    <tr>\n",
              "      <th>3</th>\n",
              "      <td>3</td>\n",
              "      <td>Список Шиндлера</td>\n",
              "      <td>1993</td>\n",
              "      <td>США</td>\n",
              "      <td>8.817</td>\n",
              "      <td>Фильм рассказывает реальную историю загадочног...</td>\n",
              "      <td>Стивен Спилберг</td>\n",
              "      <td>Стивен Зеллиан;  Томас Кенилли</td>\n",
              "      <td>Лиам Нисон; Бен Кингсли; Рэйф Файнс; Кэролайн ...</td>\n",
              "      <td>'https://st.kp.yandex.net/images/film_iphone/i...</td>\n",
              "    </tr>\n",
              "    <tr>\n",
              "      <th>4</th>\n",
              "      <td>4</td>\n",
              "      <td>1+1</td>\n",
              "      <td>2011</td>\n",
              "      <td>Франция</td>\n",
              "      <td>8.807</td>\n",
              "      <td>Пострадав в результате несчастного случая; бог...</td>\n",
              "      <td>Оливье Накаш;  Эрик Толедано</td>\n",
              "      <td>Оливье Накаш;  Филипп Поццо ди Борго;  Эрик Т...</td>\n",
              "      <td>Франсуа Клюзе; Омар Си; Анн Ле Ни; Одри Флеро;...</td>\n",
              "      <td>'https://st.kp.yandex.net/images/film_iphone/i...</td>\n",
              "    </tr>\n",
              "  </tbody>\n",
              "</table>\n",
              "</div>\n",
              "      <button class=\"colab-df-convert\" onclick=\"convertToInteractive('df-c6d02c88-2977-4a08-abe8-fbe2704b397b')\"\n",
              "              title=\"Convert this dataframe to an interactive table.\"\n",
              "              style=\"display:none;\">\n",
              "        \n",
              "  <svg xmlns=\"http://www.w3.org/2000/svg\" height=\"24px\"viewBox=\"0 0 24 24\"\n",
              "       width=\"24px\">\n",
              "    <path d=\"M0 0h24v24H0V0z\" fill=\"none\"/>\n",
              "    <path d=\"M18.56 5.44l.94 2.06.94-2.06 2.06-.94-2.06-.94-.94-2.06-.94 2.06-2.06.94zm-11 1L8.5 8.5l.94-2.06 2.06-.94-2.06-.94L8.5 2.5l-.94 2.06-2.06.94zm10 10l.94 2.06.94-2.06 2.06-.94-2.06-.94-.94-2.06-.94 2.06-2.06.94z\"/><path d=\"M17.41 7.96l-1.37-1.37c-.4-.4-.92-.59-1.43-.59-.52 0-1.04.2-1.43.59L10.3 9.45l-7.72 7.72c-.78.78-.78 2.05 0 2.83L4 21.41c.39.39.9.59 1.41.59.51 0 1.02-.2 1.41-.59l7.78-7.78 2.81-2.81c.8-.78.8-2.07 0-2.86zM5.41 20L4 18.59l7.72-7.72 1.47 1.35L5.41 20z\"/>\n",
              "  </svg>\n",
              "      </button>\n",
              "      \n",
              "  <style>\n",
              "    .colab-df-container {\n",
              "      display:flex;\n",
              "      flex-wrap:wrap;\n",
              "      gap: 12px;\n",
              "    }\n",
              "\n",
              "    .colab-df-convert {\n",
              "      background-color: #E8F0FE;\n",
              "      border: none;\n",
              "      border-radius: 50%;\n",
              "      cursor: pointer;\n",
              "      display: none;\n",
              "      fill: #1967D2;\n",
              "      height: 32px;\n",
              "      padding: 0 0 0 0;\n",
              "      width: 32px;\n",
              "    }\n",
              "\n",
              "    .colab-df-convert:hover {\n",
              "      background-color: #E2EBFA;\n",
              "      box-shadow: 0px 1px 2px rgba(60, 64, 67, 0.3), 0px 1px 3px 1px rgba(60, 64, 67, 0.15);\n",
              "      fill: #174EA6;\n",
              "    }\n",
              "\n",
              "    [theme=dark] .colab-df-convert {\n",
              "      background-color: #3B4455;\n",
              "      fill: #D2E3FC;\n",
              "    }\n",
              "\n",
              "    [theme=dark] .colab-df-convert:hover {\n",
              "      background-color: #434B5C;\n",
              "      box-shadow: 0px 1px 3px 1px rgba(0, 0, 0, 0.15);\n",
              "      filter: drop-shadow(0px 1px 2px rgba(0, 0, 0, 0.3));\n",
              "      fill: #FFFFFF;\n",
              "    }\n",
              "  </style>\n",
              "\n",
              "      <script>\n",
              "        const buttonEl =\n",
              "          document.querySelector('#df-c6d02c88-2977-4a08-abe8-fbe2704b397b button.colab-df-convert');\n",
              "        buttonEl.style.display =\n",
              "          google.colab.kernel.accessAllowed ? 'block' : 'none';\n",
              "\n",
              "        async function convertToInteractive(key) {\n",
              "          const element = document.querySelector('#df-c6d02c88-2977-4a08-abe8-fbe2704b397b');\n",
              "          const dataTable =\n",
              "            await google.colab.kernel.invokeFunction('convertToInteractive',\n",
              "                                                     [key], {});\n",
              "          if (!dataTable) return;\n",
              "\n",
              "          const docLinkHtml = 'Like what you see? Visit the ' +\n",
              "            '<a target=\"_blank\" href=https://colab.research.google.com/notebooks/data_table.ipynb>data table notebook</a>'\n",
              "            + ' to learn more about interactive tables.';\n",
              "          element.innerHTML = '';\n",
              "          dataTable['output_type'] = 'display_data';\n",
              "          await google.colab.output.renderOutput(dataTable, element);\n",
              "          const docLink = document.createElement('div');\n",
              "          docLink.innerHTML = docLinkHtml;\n",
              "          element.appendChild(docLink);\n",
              "        }\n",
              "      </script>\n",
              "    </div>\n",
              "  </div>\n",
              "  "
            ],
            "text/plain": [
              "   rating  ...                                           url_logo\n",
              "0       0  ...  'https://st.kp.yandex.net/images/film_iphone/i...\n",
              "1       1  ...  'https://st.kp.yandex.net/images/film_iphone/i...\n",
              "2       2  ...  'https://st.kp.yandex.net/images/film_iphone/i...\n",
              "3       3  ...  'https://st.kp.yandex.net/images/film_iphone/i...\n",
              "4       4  ...  'https://st.kp.yandex.net/images/film_iphone/i...\n",
              "\n",
              "[5 rows x 10 columns]"
            ]
          },
          "metadata": {},
          "execution_count": 7
        }
      ]
    },
    {
      "cell_type": "code",
      "source": [
        "!pip install pymorphy2\n",
        "!pip install stop_words\n",
        "!pip install annoy"
      ],
      "metadata": {
        "colab": {
          "base_uri": "https://localhost:8080/"
        },
        "id": "3kgMU8jOi2ih",
        "outputId": "549d7157-b264-4bee-e079-5cce705e8f00"
      },
      "execution_count": 8,
      "outputs": [
        {
          "output_type": "stream",
          "name": "stdout",
          "text": [
            "Collecting pymorphy2\n",
            "  Downloading pymorphy2-0.9.1-py3-none-any.whl (55 kB)\n",
            "\u001b[?25l\r\u001b[K     |██████                          | 10 kB 26.2 MB/s eta 0:00:01\r\u001b[K     |███████████▉                    | 20 kB 32.1 MB/s eta 0:00:01\r\u001b[K     |█████████████████▊              | 30 kB 14.7 MB/s eta 0:00:01\r\u001b[K     |███████████████████████▋        | 40 kB 6.2 MB/s eta 0:00:01\r\u001b[K     |█████████████████████████████▌  | 51 kB 6.8 MB/s eta 0:00:01\r\u001b[K     |████████████████████████████████| 55 kB 2.8 MB/s \n",
            "\u001b[?25hRequirement already satisfied: docopt>=0.6 in /usr/local/lib/python3.7/dist-packages (from pymorphy2) (0.6.2)\n",
            "Collecting pymorphy2-dicts-ru<3.0,>=2.4\n",
            "  Downloading pymorphy2_dicts_ru-2.4.417127.4579844-py2.py3-none-any.whl (8.2 MB)\n",
            "\u001b[K     |████████████████████████████████| 8.2 MB 10.4 MB/s \n",
            "\u001b[?25hCollecting dawg-python>=0.7.1\n",
            "  Downloading DAWG_Python-0.7.2-py2.py3-none-any.whl (11 kB)\n",
            "Installing collected packages: pymorphy2-dicts-ru, dawg-python, pymorphy2\n",
            "Successfully installed dawg-python-0.7.2 pymorphy2-0.9.1 pymorphy2-dicts-ru-2.4.417127.4579844\n",
            "Collecting stop_words\n",
            "  Downloading stop-words-2018.7.23.tar.gz (31 kB)\n",
            "Building wheels for collected packages: stop-words\n",
            "  Building wheel for stop-words (setup.py) ... \u001b[?25l\u001b[?25hdone\n",
            "  Created wheel for stop-words: filename=stop_words-2018.7.23-py3-none-any.whl size=32911 sha256=3383883b9f4601f49a96b2b763c474b8c87c6f7e1473f42ea1f9f2442060a631\n",
            "  Stored in directory: /root/.cache/pip/wheels/fb/86/b2/277b10b1ce9f73ce15059bf6975d4547cc4ec3feeb651978e9\n",
            "Successfully built stop-words\n",
            "Installing collected packages: stop-words\n",
            "Successfully installed stop-words-2018.7.23\n",
            "Collecting annoy\n",
            "  Downloading annoy-1.17.0.tar.gz (646 kB)\n",
            "\u001b[K     |████████████████████████████████| 646 kB 7.2 MB/s \n",
            "\u001b[?25hBuilding wheels for collected packages: annoy\n",
            "  Building wheel for annoy (setup.py) ... \u001b[?25l\u001b[?25hdone\n",
            "  Created wheel for annoy: filename=annoy-1.17.0-cp37-cp37m-linux_x86_64.whl size=391672 sha256=f5a38a5bdff4ecc55f6cb34a67f081d5628c6a8a5b90ca0a0ed0f973dcead6fc\n",
            "  Stored in directory: /root/.cache/pip/wheels/4f/e8/1e/7cc9ebbfa87a3b9f8ba79408d4d31831d67eea918b679a4c07\n",
            "Successfully built annoy\n",
            "Installing collected packages: annoy\n",
            "Successfully installed annoy-1.17.0\n"
          ]
        }
      ]
    },
    {
      "cell_type": "code",
      "source": [
        "import string\n",
        "from pymorphy2 import MorphAnalyzer\n",
        "from stop_words import get_stop_words\n",
        "import annoy\n",
        "from gensim.models import Word2Vec, FastText\n",
        "import numpy as np"
      ],
      "metadata": {
        "id": "KC7KCispiRle"
      },
      "execution_count": 9,
      "outputs": []
    },
    {
      "cell_type": "code",
      "source": [
        "def preprocess_txt(line):\n",
        "    spls = \"\".join(i for i in line.strip() if i not in exclude).split()\n",
        "    spls = [morpher.parse(i.lower())[0].normal_form for i in spls]\n",
        "    spls = [i for i in spls if i not in sw and i != \"\"]\n",
        "    return spls"
      ],
      "metadata": {
        "id": "J1iUrJHxjn6U"
      },
      "execution_count": 10,
      "outputs": []
    },
    {
      "cell_type": "code",
      "source": [
        "assert True\n",
        "\n",
        "# Preprocess for models fitting\n",
        "\n",
        "sentences = []\n",
        "\n",
        "morpher = MorphAnalyzer()\n",
        "sw = set(get_stop_words(\"ru\"))\n",
        "exclude = set(string.punctuation)\n",
        "c = 0"
      ],
      "metadata": {
        "id": "Jauj-jlzjUdF"
      },
      "execution_count": 11,
      "outputs": []
    },
    {
      "cell_type": "code",
      "execution_count": 12,
      "metadata": {
        "id": "iQiwQeMsg1dP"
      },
      "outputs": [],
      "source": [
        "for line in df['overview']:\n",
        "    spls = preprocess_txt(line)\n",
        "    sentences.append(spls)\n",
        "    c += 1\n",
        "    if c > 100000:\n",
        "       break"
      ]
    },
    {
      "cell_type": "code",
      "execution_count": 13,
      "metadata": {
        "id": "PxkuZx1gg1dR"
      },
      "outputs": [],
      "source": [
        "sentences = [i for i in sentences if len(i) > 2]"
      ]
    },
    {
      "cell_type": "code",
      "execution_count": 14,
      "metadata": {
        "colab": {
          "base_uri": "https://localhost:8080/"
        },
        "id": "ORYspgFkg1dR",
        "outputId": "16ac978e-ee28-4848-cc19-4967a0c3a9ee"
      },
      "outputs": [
        {
          "output_type": "execute_result",
          "data": {
            "text/plain": [
              "['бухгалтер',\n",
              " 'энди',\n",
              " 'дюфрейн',\n",
              " 'обвинить',\n",
              " 'убийство',\n",
              " 'собственный',\n",
              " 'жена',\n",
              " 'любовник',\n",
              " 'оказаться',\n",
              " 'тюрьма',\n",
              " 'название',\n",
              " 'шоушенк',\n",
              " 'сталкиваться',\n",
              " 'жестокость',\n",
              " 'беззаконие',\n",
              " 'царить',\n",
              " 'сторона',\n",
              " 'решётка',\n",
              " 'попадать',\n",
              " 'стена',\n",
              " 'становиться',\n",
              " 'раб',\n",
              " 'конец',\n",
              " 'энди',\n",
              " 'обладать',\n",
              " 'живой',\n",
              " 'ум',\n",
              " 'добрый',\n",
              " 'душа',\n",
              " 'находить',\n",
              " 'подход',\n",
              " 'заключить',\n",
              " 'охранник',\n",
              " 'добиваться',\n",
              " 'особый',\n",
              " 'расположение']"
            ]
          },
          "metadata": {},
          "execution_count": 14
        }
      ],
      "source": [
        "sentences[0]"
      ]
    },
    {
      "cell_type": "code",
      "execution_count": 15,
      "metadata": {
        "id": "OEBYADgZg1dS"
      },
      "outputs": [],
      "source": [
        "modelW2V = Word2Vec(sentences=sentences, size=50, window=5, min_count=1)"
      ]
    },
    {
      "cell_type": "code",
      "execution_count": 16,
      "metadata": {
        "id": "HxHLpbw_g1dU"
      },
      "outputs": [],
      "source": [
        "modelFT = FastText(sentences=sentences, size=50, min_count=1, window=5)"
      ]
    },
    {
      "cell_type": "code",
      "source": [
        "df['vector_w2v'] = 0\n",
        "df['vector_ft'] = 0"
      ],
      "metadata": {
        "id": "c2r9dRzu4c2H"
      },
      "execution_count": 21,
      "outputs": []
    },
    {
      "cell_type": "code",
      "source": [
        "df.tail()"
      ],
      "metadata": {
        "colab": {
          "base_uri": "https://localhost:8080/",
          "height": 721
        },
        "id": "28NGzD7L47ME",
        "outputId": "528687ab-6804-429c-ffbf-9a511fe68449"
      },
      "execution_count": 104,
      "outputs": [
        {
          "output_type": "execute_result",
          "data": {
            "text/html": [
              "\n",
              "  <div id=\"df-728c4a7d-2c65-4474-bac1-c1adf3e9e96f\">\n",
              "    <div class=\"colab-df-container\">\n",
              "      <div>\n",
              "<style scoped>\n",
              "    .dataframe tbody tr th:only-of-type {\n",
              "        vertical-align: middle;\n",
              "    }\n",
              "\n",
              "    .dataframe tbody tr th {\n",
              "        vertical-align: top;\n",
              "    }\n",
              "\n",
              "    .dataframe thead th {\n",
              "        text-align: right;\n",
              "    }\n",
              "</style>\n",
              "<table border=\"1\" class=\"dataframe\">\n",
              "  <thead>\n",
              "    <tr style=\"text-align: right;\">\n",
              "      <th></th>\n",
              "      <th>rating</th>\n",
              "      <th>movie</th>\n",
              "      <th>year</th>\n",
              "      <th>country</th>\n",
              "      <th>rating_ball</th>\n",
              "      <th>overview</th>\n",
              "      <th>director</th>\n",
              "      <th>screenwriter</th>\n",
              "      <th>actors</th>\n",
              "      <th>url_logo</th>\n",
              "      <th>vector_w2v</th>\n",
              "      <th>vector_ft</th>\n",
              "    </tr>\n",
              "  </thead>\n",
              "  <tbody>\n",
              "    <tr>\n",
              "      <th>245</th>\n",
              "      <td>245</td>\n",
              "      <td>Крамер против Крамера</td>\n",
              "      <td>1979</td>\n",
              "      <td>США</td>\n",
              "      <td>7.984</td>\n",
              "      <td>Тед Крамер; целиком посвятив себя карьере; не ...</td>\n",
              "      <td>Роберт Бентон</td>\n",
              "      <td>Роберт Бентон;  Эйвери Кормэн</td>\n",
              "      <td>Дастин Хоффман; Мэрил Стрип; Джейн Александр; ...</td>\n",
              "      <td>'https://st.kp.yandex.net/images/film_iphone/i...</td>\n",
              "      <td>0</td>\n",
              "      <td>0</td>\n",
              "    </tr>\n",
              "    <tr>\n",
              "      <th>246</th>\n",
              "      <td>246</td>\n",
              "      <td>Пираты Карибского моря: На краю Света</td>\n",
              "      <td>2007</td>\n",
              "      <td>США</td>\n",
              "      <td>8.007</td>\n",
              "      <td>Новые приключения Джека Воробья и его друзей У...</td>\n",
              "      <td>Гор Вербински</td>\n",
              "      <td>Тед Эллиот;  Терри Россио;  Стюарт Битти; ...</td>\n",
              "      <td>Джонни Депп; Джеффри Раш; Орландо Блум; Кира Н...</td>\n",
              "      <td>'https://st.kp.yandex.net/images/film_iphone/i...</td>\n",
              "      <td>0</td>\n",
              "      <td>0</td>\n",
              "    </tr>\n",
              "    <tr>\n",
              "      <th>247</th>\n",
              "      <td>247</td>\n",
              "      <td>Иди и смотри</td>\n",
              "      <td>1985</td>\n",
              "      <td>СССР</td>\n",
              "      <td>8.077</td>\n",
              "      <td>Флера — шестнадцатилетний мальчишка; откопавши...</td>\n",
              "      <td>Элем Климов</td>\n",
              "      <td>Алесь Адамович;  Элем Климов</td>\n",
              "      <td>Алексей Кравченко; Ольга Миронова; Любомирас Л...</td>\n",
              "      <td>'https://st.kp.yandex.net/images/film_iphone/i...</td>\n",
              "      <td>0</td>\n",
              "      <td>0</td>\n",
              "    </tr>\n",
              "    <tr>\n",
              "      <th>248</th>\n",
              "      <td>248</td>\n",
              "      <td>Профессионал</td>\n",
              "      <td>1981</td>\n",
              "      <td>Франция</td>\n",
              "      <td>8.112</td>\n",
              "      <td>Убить президента африканской республики. Такое...</td>\n",
              "      <td>Жорж Лотнер</td>\n",
              "      <td>Мишель Одиар;  Патрик Александер;  Жорж Лотне...</td>\n",
              "      <td>Жан-Поль Бельмондо; Жан Дезайи; Сирил Клер; Ма...</td>\n",
              "      <td>'https://st.kp.yandex.net/images/film_iphone/i...</td>\n",
              "      <td>0</td>\n",
              "      <td>0</td>\n",
              "    </tr>\n",
              "    <tr>\n",
              "      <th>249</th>\n",
              "      <td>249</td>\n",
              "      <td>Холодное лето пятьдесят третьего...</td>\n",
              "      <td>1987</td>\n",
              "      <td>СССР</td>\n",
              "      <td>8.050</td>\n",
              "      <td>Двое бывших политзаключённых; недавно вышедших...</td>\n",
              "      <td>Александр Прошкин</td>\n",
              "      <td>Эдгар Дубровский</td>\n",
              "      <td>Валерий Приёмыхов; Анатолий Папанов; Виктор Ст...</td>\n",
              "      <td>'https://st.kp.yandex.net/images/film_iphone/i...</td>\n",
              "      <td>0</td>\n",
              "      <td>0</td>\n",
              "    </tr>\n",
              "  </tbody>\n",
              "</table>\n",
              "</div>\n",
              "      <button class=\"colab-df-convert\" onclick=\"convertToInteractive('df-728c4a7d-2c65-4474-bac1-c1adf3e9e96f')\"\n",
              "              title=\"Convert this dataframe to an interactive table.\"\n",
              "              style=\"display:none;\">\n",
              "        \n",
              "  <svg xmlns=\"http://www.w3.org/2000/svg\" height=\"24px\"viewBox=\"0 0 24 24\"\n",
              "       width=\"24px\">\n",
              "    <path d=\"M0 0h24v24H0V0z\" fill=\"none\"/>\n",
              "    <path d=\"M18.56 5.44l.94 2.06.94-2.06 2.06-.94-2.06-.94-.94-2.06-.94 2.06-2.06.94zm-11 1L8.5 8.5l.94-2.06 2.06-.94-2.06-.94L8.5 2.5l-.94 2.06-2.06.94zm10 10l.94 2.06.94-2.06 2.06-.94-2.06-.94-.94-2.06-.94 2.06-2.06.94z\"/><path d=\"M17.41 7.96l-1.37-1.37c-.4-.4-.92-.59-1.43-.59-.52 0-1.04.2-1.43.59L10.3 9.45l-7.72 7.72c-.78.78-.78 2.05 0 2.83L4 21.41c.39.39.9.59 1.41.59.51 0 1.02-.2 1.41-.59l7.78-7.78 2.81-2.81c.8-.78.8-2.07 0-2.86zM5.41 20L4 18.59l7.72-7.72 1.47 1.35L5.41 20z\"/>\n",
              "  </svg>\n",
              "      </button>\n",
              "      \n",
              "  <style>\n",
              "    .colab-df-container {\n",
              "      display:flex;\n",
              "      flex-wrap:wrap;\n",
              "      gap: 12px;\n",
              "    }\n",
              "\n",
              "    .colab-df-convert {\n",
              "      background-color: #E8F0FE;\n",
              "      border: none;\n",
              "      border-radius: 50%;\n",
              "      cursor: pointer;\n",
              "      display: none;\n",
              "      fill: #1967D2;\n",
              "      height: 32px;\n",
              "      padding: 0 0 0 0;\n",
              "      width: 32px;\n",
              "    }\n",
              "\n",
              "    .colab-df-convert:hover {\n",
              "      background-color: #E2EBFA;\n",
              "      box-shadow: 0px 1px 2px rgba(60, 64, 67, 0.3), 0px 1px 3px 1px rgba(60, 64, 67, 0.15);\n",
              "      fill: #174EA6;\n",
              "    }\n",
              "\n",
              "    [theme=dark] .colab-df-convert {\n",
              "      background-color: #3B4455;\n",
              "      fill: #D2E3FC;\n",
              "    }\n",
              "\n",
              "    [theme=dark] .colab-df-convert:hover {\n",
              "      background-color: #434B5C;\n",
              "      box-shadow: 0px 1px 3px 1px rgba(0, 0, 0, 0.15);\n",
              "      filter: drop-shadow(0px 1px 2px rgba(0, 0, 0, 0.3));\n",
              "      fill: #FFFFFF;\n",
              "    }\n",
              "  </style>\n",
              "\n",
              "      <script>\n",
              "        const buttonEl =\n",
              "          document.querySelector('#df-728c4a7d-2c65-4474-bac1-c1adf3e9e96f button.colab-df-convert');\n",
              "        buttonEl.style.display =\n",
              "          google.colab.kernel.accessAllowed ? 'block' : 'none';\n",
              "\n",
              "        async function convertToInteractive(key) {\n",
              "          const element = document.querySelector('#df-728c4a7d-2c65-4474-bac1-c1adf3e9e96f');\n",
              "          const dataTable =\n",
              "            await google.colab.kernel.invokeFunction('convertToInteractive',\n",
              "                                                     [key], {});\n",
              "          if (!dataTable) return;\n",
              "\n",
              "          const docLinkHtml = 'Like what you see? Visit the ' +\n",
              "            '<a target=\"_blank\" href=https://colab.research.google.com/notebooks/data_table.ipynb>data table notebook</a>'\n",
              "            + ' to learn more about interactive tables.';\n",
              "          element.innerHTML = '';\n",
              "          dataTable['output_type'] = 'display_data';\n",
              "          await google.colab.output.renderOutput(dataTable, element);\n",
              "          const docLink = document.createElement('div');\n",
              "          docLink.innerHTML = docLinkHtml;\n",
              "          element.appendChild(docLink);\n",
              "        }\n",
              "      </script>\n",
              "    </div>\n",
              "  </div>\n",
              "  "
            ],
            "text/plain": [
              "     rating                                   movie  ...  vector_w2v vector_ft\n",
              "245     245                  Крамер против Крамера   ...           0         0\n",
              "246     246  Пираты Карибского моря: На краю Света   ...           0         0\n",
              "247     247                           Иди и смотри   ...           0         0\n",
              "248     248                           Профессионал   ...           0         0\n",
              "249     249    Холодное лето пятьдесят третьего...   ...           0         0\n",
              "\n",
              "[5 rows x 12 columns]"
            ]
          },
          "metadata": {},
          "execution_count": 104
        }
      ]
    },
    {
      "cell_type": "code",
      "source": [
        "w2v_index = annoy.AnnoyIndex(50 ,'angular')\n",
        "ft_index = annoy.AnnoyIndex(50 ,'angular')\n",
        "counter = 0\n",
        "for line in df['overview']:\n",
        "  n_w2v = 0\n",
        "  n_ft = 0\n",
        "  vector_w2v = np.zeros(50)\n",
        "  vector_ft = np.zeros(50)\n",
        "  for ind in range (len(df)):\n",
        "    for el in df['overview'][ind]:\n",
        "      if el in modelW2V:\n",
        "        vector_w2v += modelW2V[el]\n",
        "        n_w2v += 1\n",
        "      if el in modelFT:\n",
        "        vector_ft += modelFT[el]\n",
        "        n_ft += 1\n",
        "    if n_w2v > 0:\n",
        "      vector_w2v = vector_w2v / n_w2v\n",
        "      #df['vector_w2v'][ind] = vector_w2v\n",
        "    if n_ft > 0:\n",
        "      vector_ft = vector_ft / n_ft\n",
        "      #df['vector_ft'][ind] = vector_ft\n",
        "  w2v_index.add_item(counter, vector_w2v)\n",
        "  ft_index.add_item(counter, vector_ft)\n",
        "  counter +=1\n",
        "\n",
        "w2v_index.build(10)\n",
        "ft_index.build(10)"
      ],
      "metadata": {
        "colab": {
          "base_uri": "https://localhost:8080/"
        },
        "id": "Suyy8CJ43pL0",
        "outputId": "899f297d-cdb0-4624-9f25-547871b190e1"
      },
      "execution_count": 107,
      "outputs": [
        {
          "output_type": "stream",
          "name": "stderr",
          "text": [
            "/usr/local/lib/python3.7/dist-packages/ipykernel_launcher.py:11: DeprecationWarning: Call to deprecated `__contains__` (Method will be removed in 4.0.0, use self.wv.__contains__() instead).\n",
            "  # This is added back by InteractiveShellApp.init_path()\n",
            "/usr/local/lib/python3.7/dist-packages/ipykernel_launcher.py:14: DeprecationWarning: Call to deprecated `__contains__` (Method will be removed in 4.0.0, use self.wv.__contains__() instead).\n",
            "  \n",
            "/usr/local/lib/python3.7/dist-packages/ipykernel_launcher.py:12: DeprecationWarning: Call to deprecated `__getitem__` (Method will be removed in 4.0.0, use self.wv.__getitem__() instead).\n",
            "  if sys.path[0] == '':\n",
            "/usr/local/lib/python3.7/dist-packages/ipykernel_launcher.py:15: DeprecationWarning: Call to deprecated `__getitem__` (Method will be removed in 4.0.0, use self.wv.__getitem__() instead).\n",
            "  from ipykernel import kernelapp as app\n"
          ]
        },
        {
          "output_type": "execute_result",
          "data": {
            "text/plain": [
              "True"
            ]
          },
          "metadata": {},
          "execution_count": 107
        }
      ]
    },
    {
      "cell_type": "code",
      "source": [
        "import re"
      ],
      "metadata": {
        "id": "YeV9j_jHJk-p"
      },
      "execution_count": 27,
      "outputs": []
    },
    {
      "cell_type": "code",
      "source": [
        "d = {}\n",
        "for ind in range (len(df)):\n",
        "  d[df['movie'][ind]] = df['rating'][ind]"
      ],
      "metadata": {
        "id": "met6xHwkCKK4"
      },
      "execution_count": 113,
      "outputs": []
    },
    {
      "cell_type": "code",
      "source": [
        "def get_key(d, value):\n",
        "    for k, v in d.items():\n",
        "        if v == value:\n",
        "            return k"
      ],
      "metadata": {
        "id": "q8mdkJYLDTS3"
      },
      "execution_count": 114,
      "outputs": []
    },
    {
      "cell_type": "code",
      "source": [
        "def find_similar(index, film, n=3):\n",
        "  if film in d.keys():\n",
        "    ind = d[film]\n",
        "    result = index.get_nns_by_vector(index.get_item_vector(ind), n=3)\n",
        "    list_of_films = []\n",
        "    for el in result:\n",
        "      k = get_key(d, el)\n",
        "      list_of_films.append(k)\n",
        "    return list_of_films \n",
        "  else:\n",
        "    print(\"No such a film\")\n",
        "  "
      ],
      "metadata": {
        "id": "LgL113gNGHdo"
      },
      "execution_count": 115,
      "outputs": []
    },
    {
      "cell_type": "code",
      "source": [
        "find_similar(w2v_index, '1+1 ')"
      ],
      "metadata": {
        "colab": {
          "base_uri": "https://localhost:8080/"
        },
        "id": "dq_NEeP-CJ1p",
        "outputId": "08763d9c-bf53-493e-90b4-968cad24e78c"
      },
      "execution_count": 117,
      "outputs": [
        {
          "output_type": "execute_result",
          "data": {
            "text/plain": [
              "['Форрест Гамп ', 'Бриллиантовая рука ', 'Хатико: Самый верный друг ']"
            ]
          },
          "metadata": {},
          "execution_count": 117
        }
      ]
    }
  ],
  "metadata": {
    "kernelspec": {
      "display_name": "Python 3",
      "language": "python",
      "name": "python3"
    },
    "language_info": {
      "codemirror_mode": {
        "name": "ipython",
        "version": 3
      },
      "file_extension": ".py",
      "mimetype": "text/x-python",
      "name": "python",
      "nbconvert_exporter": "python",
      "pygments_lexer": "ipython3",
      "version": "3.8.3"
    },
    "colab": {
      "name": "hw3_NLP_Bazhan.ipynb",
      "provenance": [],
      "collapsed_sections": []
    }
  },
  "nbformat": 4,
  "nbformat_minor": 0
}