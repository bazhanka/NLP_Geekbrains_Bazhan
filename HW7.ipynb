{
  "cells": [
    {
      "cell_type": "markdown",
      "metadata": {
        "id": "ISxzz0727CUA"
      },
      "source": [
        "## Тема 3. Разметка и извлечение именованных сущностей"
      ]
    },
    {
      "cell_type": "markdown",
      "metadata": {
        "id": "OriXLKe07CUD"
      },
      "source": [
        "### 3.1. Разметка слов с помощью частей речи (Parts-Of-Speech)"
      ]
    },
    {
      "cell_type": "markdown",
      "metadata": {
        "id": "RVClOL9R7CUE"
      },
      "source": [
        "![image.png](attachment:image.png)"
      ]
    },
    {
      "cell_type": "code",
      "execution_count": 6,
      "metadata": {
        "id": "uOqoGuwq7CUF"
      },
      "outputs": [],
      "source": [
        "#nltk.download() \n",
        "import nltk\n",
        "from nltk.tokenize import word_tokenize\n",
        "import matplotlib\n",
        "%matplotlib inline"
      ]
    },
    {
      "cell_type": "code",
      "execution_count": 7,
      "metadata": {
        "id": "SiXoN_nm7CUH"
      },
      "outputs": [],
      "source": [
        "import warnings\n",
        "warnings.filterwarnings(\"ignore\")"
      ]
    },
    {
      "cell_type": "code",
      "execution_count": 2,
      "metadata": {
        "id": "ioEEJym97CUL",
        "outputId": "aaf6a8bf-b698-41d5-ae15-beac05c150b8",
        "colab": {
          "base_uri": "https://localhost:8080/"
        }
      },
      "outputs": [
        {
          "output_type": "execute_result",
          "data": {
            "text/plain": [
              "<LazyModule 'nltk.corpus'>"
            ]
          },
          "metadata": {},
          "execution_count": 2
        }
      ],
      "source": [
        "nltk.corpus"
      ]
    },
    {
      "cell_type": "code",
      "execution_count": 4,
      "metadata": {
        "id": "hZnifRyO7CUM"
      },
      "outputs": [],
      "source": [
        "from nltk.tag import DefaultTagger\n",
        "from nltk.tag import UnigramTagger\n",
        "from nltk.tag import BigramTagger, TrigramTagger\n",
        "from nltk.tag import RegexpTagger"
      ]
    },
    {
      "cell_type": "code",
      "execution_count": 5,
      "metadata": {
        "colab": {
          "base_uri": "https://localhost:8080/"
        },
        "id": "49X4ydU17CUU",
        "outputId": "a81df886-3adf-43a1-a769-24d760db4be8"
      },
      "outputs": [
        {
          "output_type": "stream",
          "name": "stdout",
          "text": [
            "Collecting pyconll\n",
            "  Downloading pyconll-3.1.0-py3-none-any.whl (26 kB)\n",
            "Installing collected packages: pyconll\n",
            "Successfully installed pyconll-3.1.0\n"
          ]
        }
      ],
      "source": [
        "!pip install pyconll"
      ]
    },
    {
      "cell_type": "code",
      "execution_count": 6,
      "metadata": {
        "id": "kNKD6vjP7CUU"
      },
      "outputs": [],
      "source": [
        "import pyconll"
      ]
    },
    {
      "cell_type": "code",
      "execution_count": 7,
      "metadata": {
        "id": "5vsf_SjG7CUV"
      },
      "outputs": [],
      "source": [
        "full_train = pyconll.load_from_file('/content/ru_syntagrus-ud-dev.conllu')\n",
        "full_test = pyconll.load_from_file('/content/ru_syntagrus-ud-dev.conllu')"
      ]
    },
    {
      "cell_type": "code",
      "execution_count": 8,
      "metadata": {
        "colab": {
          "base_uri": "https://localhost:8080/"
        },
        "id": "kuYUc3s77CUV",
        "outputId": "042ebb76-96a7-4146-a741-7d756479c3c1"
      },
      "outputs": [
        {
          "output_type": "stream",
          "name": "stdout",
          "text": [
            "Алгоритм NOUN\n",
            ", PUNCT\n",
            "от ADP\n",
            "имени NOUN\n",
            "учёного NOUN\n",
            "аль PART\n",
            "- PUNCT\n",
            "Хорезми PROPN\n",
            ", PUNCT\n",
            "- PUNCT\n",
            "точный ADJ\n",
            "набор NOUN\n",
            "инструкций NOUN\n",
            ", PUNCT\n",
            "описывающих VERB\n",
            "порядок NOUN\n",
            "действий NOUN\n",
            "исполнителя NOUN\n",
            "для ADP\n",
            "достижения NOUN\n",
            "результата NOUN\n",
            "решения NOUN\n",
            "задачи NOUN\n",
            "за ADP\n",
            "конечное ADJ\n",
            "время NOUN\n",
            ". PUNCT\n",
            "\n",
            "В ADP\n",
            "старой ADJ\n",
            "трактовке NOUN\n",
            "вместо ADP\n",
            "слова NOUN\n",
            "\" PUNCT\n",
            "порядок NOUN\n",
            "\" PUNCT\n",
            "использовалось VERB\n",
            "слово NOUN\n",
            "\" PUNCT\n",
            "последовательность NOUN\n",
            "\" PUNCT\n",
            ", PUNCT\n",
            "но CCONJ\n",
            "по ADP\n",
            "мере NOUN\n",
            "развития NOUN\n",
            "параллельности NOUN\n",
            "в ADP\n",
            "работе NOUN\n",
            "компьютеров NOUN\n",
            "слово NOUN\n",
            "\" PUNCT\n",
            "последовательность NOUN\n",
            "\" PUNCT\n",
            "стали VERB\n",
            "заменять VERB\n",
            "более ADV\n",
            "общим ADJ\n",
            "словом NOUN\n",
            "\" PUNCT\n",
            "порядок NOUN\n",
            "\" PUNCT\n",
            ". PUNCT\n",
            "\n"
          ]
        }
      ],
      "source": [
        "for sent in full_train[:2]:\n",
        "    for token in sent:\n",
        "        print(token.form, token.upos)\n",
        "    print()"
      ]
    },
    {
      "cell_type": "code",
      "execution_count": 16,
      "metadata": {
        "id": "cFZS1aSr7CUV"
      },
      "outputs": [],
      "source": [
        "fdata_train = []\n",
        "for sent in full_train[:]:\n",
        "    fdata_train.append([(token.form, token.upos) for token in sent])\n",
        "    \n",
        "fdata_test = []\n",
        "for sent in full_test[:]:\n",
        "    fdata_test.append([(token.form, token.upos) for token in sent])\n",
        "    \n",
        "fdata_sent_test = []\n",
        "for sent in full_test[:]:\n",
        "    fdata_sent_test.append([token.form for token in sent])"
      ]
    },
    {
      "cell_type": "code",
      "execution_count": 25,
      "metadata": {
        "id": "wGU2mu4E7CUR",
        "outputId": "ef7b35da-608f-417d-d16f-beb932d73057",
        "colab": {
          "base_uri": "https://localhost:8080/"
        }
      },
      "outputs": [
        {
          "output_type": "execute_result",
          "data": {
            "text/plain": [
              "0.9826616316166417"
            ]
          },
          "metadata": {},
          "execution_count": 25
        }
      ],
      "source": [
        "from nltk.tag import TrigramTagger \n",
        "\n",
        "def backoff_tagger(train_sents, tagger_classes, backoff=None):\n",
        "    for cls in tagger_classes:\n",
        "        backoff = cls(train_sents, backoff=backoff)\n",
        "    return backoff\n",
        "\n",
        "\n",
        "backoff = DefaultTagger('NN') \n",
        "tag = backoff_tagger(fdata_train,  \n",
        "                     [UnigramTagger, BigramTagger, TrigramTagger],  \n",
        "                     backoff = backoff) \n",
        "  \n",
        "tag.evaluate(fdata_test) "
      ]
    },
    {
      "cell_type": "code",
      "source": [
        "def_tagger = DefaultTagger('NOUN')\n",
        "display (def_tagger.tag(fdata_sent_test[1]), def_tagger.evaluate(fdata_test) )"
      ],
      "metadata": {
        "colab": {
          "base_uri": "https://localhost:8080/",
          "height": 642
        },
        "id": "MVdW5EGN_hJO",
        "outputId": "e96f48e8-a5ba-472f-df19-3f2e9ddf1e6b"
      },
      "execution_count": 38,
      "outputs": [
        {
          "output_type": "display_data",
          "data": {
            "text/plain": [
              "[('В', 'NOUN'),\n",
              " ('старой', 'NOUN'),\n",
              " ('трактовке', 'NOUN'),\n",
              " ('вместо', 'NOUN'),\n",
              " ('слова', 'NOUN'),\n",
              " ('\"', 'NOUN'),\n",
              " ('порядок', 'NOUN'),\n",
              " ('\"', 'NOUN'),\n",
              " ('использовалось', 'NOUN'),\n",
              " ('слово', 'NOUN'),\n",
              " ('\"', 'NOUN'),\n",
              " ('последовательность', 'NOUN'),\n",
              " ('\"', 'NOUN'),\n",
              " (',', 'NOUN'),\n",
              " ('но', 'NOUN'),\n",
              " ('по', 'NOUN'),\n",
              " ('мере', 'NOUN'),\n",
              " ('развития', 'NOUN'),\n",
              " ('параллельности', 'NOUN'),\n",
              " ('в', 'NOUN'),\n",
              " ('работе', 'NOUN'),\n",
              " ('компьютеров', 'NOUN'),\n",
              " ('слово', 'NOUN'),\n",
              " ('\"', 'NOUN'),\n",
              " ('последовательность', 'NOUN'),\n",
              " ('\"', 'NOUN'),\n",
              " ('стали', 'NOUN'),\n",
              " ('заменять', 'NOUN'),\n",
              " ('более', 'NOUN'),\n",
              " ('общим', 'NOUN'),\n",
              " ('словом', 'NOUN'),\n",
              " ('\"', 'NOUN'),\n",
              " ('порядок', 'NOUN'),\n",
              " ('\"', 'NOUN'),\n",
              " ('.', 'NOUN')]"
            ]
          },
          "metadata": {}
        },
        {
          "output_type": "display_data",
          "data": {
            "text/plain": [
              "0.23593983983332248"
            ]
          },
          "metadata": {}
        }
      ]
    },
    {
      "cell_type": "code",
      "source": [
        "unigram_tagger = UnigramTagger(fdata_train)"
      ],
      "metadata": {
        "id": "VxBAwUBT-zdu"
      },
      "execution_count": 28,
      "outputs": []
    },
    {
      "cell_type": "code",
      "source": [
        "display(unigram_tagger.tag(fdata_sent_test[1]), unigram_tagger.evaluate(fdata_test))"
      ],
      "metadata": {
        "colab": {
          "base_uri": "https://localhost:8080/",
          "height": 642
        },
        "id": "5C1tjfAd_Vqg",
        "outputId": "604bc0a5-f37b-4a84-a8dd-cfe4bb95402d"
      },
      "execution_count": 34,
      "outputs": [
        {
          "output_type": "display_data",
          "data": {
            "text/plain": [
              "[('В', 'ADP'),\n",
              " ('старой', 'ADJ'),\n",
              " ('трактовке', 'NOUN'),\n",
              " ('вместо', 'ADP'),\n",
              " ('слова', 'NOUN'),\n",
              " ('\"', 'PUNCT'),\n",
              " ('порядок', 'NOUN'),\n",
              " ('\"', 'PUNCT'),\n",
              " ('использовалось', 'VERB'),\n",
              " ('слово', 'NOUN'),\n",
              " ('\"', 'PUNCT'),\n",
              " ('последовательность', 'NOUN'),\n",
              " ('\"', 'PUNCT'),\n",
              " (',', 'PUNCT'),\n",
              " ('но', 'CCONJ'),\n",
              " ('по', 'ADP'),\n",
              " ('мере', 'NOUN'),\n",
              " ('развития', 'NOUN'),\n",
              " ('параллельности', 'NOUN'),\n",
              " ('в', 'ADP'),\n",
              " ('работе', 'NOUN'),\n",
              " ('компьютеров', 'NOUN'),\n",
              " ('слово', 'NOUN'),\n",
              " ('\"', 'PUNCT'),\n",
              " ('последовательность', 'NOUN'),\n",
              " ('\"', 'PUNCT'),\n",
              " ('стали', 'VERB'),\n",
              " ('заменять', 'VERB'),\n",
              " ('более', 'ADV'),\n",
              " ('общим', 'ADJ'),\n",
              " ('словом', 'NOUN'),\n",
              " ('\"', 'PUNCT'),\n",
              " ('порядок', 'NOUN'),\n",
              " ('\"', 'PUNCT'),\n",
              " ('.', 'PUNCT')]"
            ]
          },
          "metadata": {}
        },
        {
          "output_type": "display_data",
          "data": {
            "text/plain": [
              "0.9705905332378411"
            ]
          },
          "metadata": {}
        }
      ]
    },
    {
      "cell_type": "code",
      "execution_count": 29,
      "metadata": {
        "id": "9qDKkVJm7CUW"
      },
      "outputs": [],
      "source": [
        "bigram_tagger = BigramTagger(fdata_train, backoff=unigram_tagger)"
      ]
    },
    {
      "cell_type": "code",
      "execution_count": 30,
      "metadata": {
        "id": "zWgwKNLn7CUW",
        "outputId": "c27c1563-cdd5-42c6-bcdb-8a07cc19b5a1",
        "colab": {
          "base_uri": "https://localhost:8080/",
          "height": 503
        }
      },
      "outputs": [
        {
          "output_type": "display_data",
          "data": {
            "text/plain": [
              "[('Это', 'PRON'),\n",
              " ('сочинение', 'NOUN'),\n",
              " ('известно', 'ADJ'),\n",
              " ('во', 'ADP'),\n",
              " ('многих', 'NUM'),\n",
              " ('вариантах', 'NOUN'),\n",
              " ('(', 'PUNCT'),\n",
              " ('самые', 'ADJ'),\n",
              " ('ранние', 'ADJ'),\n",
              " ('из', 'ADP'),\n",
              " ('них', 'PRON'),\n",
              " ('почти', 'ADV'),\n",
              " ('на', 'ADP'),\n",
              " ('сто', 'NUM'),\n",
              " ('лет', 'NOUN'),\n",
              " ('старше', 'ADJ'),\n",
              " (')', 'PUNCT'),\n",
              " ('и', 'CCONJ'),\n",
              " ('восходит', 'VERB'),\n",
              " ('к', 'ADP'),\n",
              " ('ещё', 'ADV'),\n",
              " ('более', 'ADV'),\n",
              " ('древним', 'ADJ'),\n",
              " ('рукописям', 'NOUN'),\n",
              " ('XVI', 'NUM'),\n",
              " ('в', 'ADP'),\n",
              " ('.', 'PUNCT')]"
            ]
          },
          "metadata": {}
        },
        {
          "output_type": "display_data",
          "data": {
            "text/plain": [
              "0.9791978644442998"
            ]
          },
          "metadata": {}
        }
      ],
      "source": [
        "display(bigram_tagger.tag(fdata_sent_test[100]), bigram_tagger.evaluate(fdata_test))"
      ]
    },
    {
      "cell_type": "code",
      "source": [
        "trigram_tagger = TrigramTagger(fdata_train, backoff=bigram_tagger)"
      ],
      "metadata": {
        "id": "bYiYjxqQ__4f"
      },
      "execution_count": 39,
      "outputs": []
    },
    {
      "cell_type": "code",
      "source": [
        "display(trigram_tagger.tag(fdata_sent_test[1]), trigram_tagger.evaluate(fdata_test))"
      ],
      "metadata": {
        "colab": {
          "base_uri": "https://localhost:8080/",
          "height": 642
        },
        "id": "yLr9CIGsALRk",
        "outputId": "9c15a74c-19f9-4292-adaa-04028b9ccd38"
      },
      "execution_count": 40,
      "outputs": [
        {
          "output_type": "display_data",
          "data": {
            "text/plain": [
              "[('В', 'ADP'),\n",
              " ('старой', 'ADJ'),\n",
              " ('трактовке', 'NOUN'),\n",
              " ('вместо', 'ADP'),\n",
              " ('слова', 'NOUN'),\n",
              " ('\"', 'PUNCT'),\n",
              " ('порядок', 'NOUN'),\n",
              " ('\"', 'PUNCT'),\n",
              " ('использовалось', 'VERB'),\n",
              " ('слово', 'NOUN'),\n",
              " ('\"', 'PUNCT'),\n",
              " ('последовательность', 'NOUN'),\n",
              " ('\"', 'PUNCT'),\n",
              " (',', 'PUNCT'),\n",
              " ('но', 'CCONJ'),\n",
              " ('по', 'ADP'),\n",
              " ('мере', 'NOUN'),\n",
              " ('развития', 'NOUN'),\n",
              " ('параллельности', 'NOUN'),\n",
              " ('в', 'ADP'),\n",
              " ('работе', 'NOUN'),\n",
              " ('компьютеров', 'NOUN'),\n",
              " ('слово', 'NOUN'),\n",
              " ('\"', 'PUNCT'),\n",
              " ('последовательность', 'NOUN'),\n",
              " ('\"', 'PUNCT'),\n",
              " ('стали', 'VERB'),\n",
              " ('заменять', 'VERB'),\n",
              " ('более', 'ADV'),\n",
              " ('общим', 'ADJ'),\n",
              " ('словом', 'NOUN'),\n",
              " ('\"', 'PUNCT'),\n",
              " ('порядок', 'NOUN'),\n",
              " ('\"', 'PUNCT'),\n",
              " ('.', 'PUNCT')]"
            ]
          },
          "metadata": {}
        },
        {
          "output_type": "display_data",
          "data": {
            "text/plain": [
              "0.9844195585650107"
            ]
          },
          "metadata": {}
        }
      ]
    },
    {
      "cell_type": "code",
      "execution_count": 50,
      "metadata": {
        "id": "k5NrVOxY7CUW"
      },
      "outputs": [],
      "source": [
        "train_tok = []\n",
        "train_label = []\n",
        "for sent in fdata_train[:]:\n",
        "    for tok in sent:\n",
        "        train_tok.append(str(tok[0]))\n",
        "        train_label.append('NO_TAG' if tok[1] is None else tok[1])\n",
        "        \n",
        "test_tok = []\n",
        "test_label = []\n",
        "for sent in fdata_test[:]:\n",
        "    for tok in sent:\n",
        "        test_tok.append(str(tok[0]))\n",
        "        test_label.append('NO_TAG' if tok[1] is None else tok[1])"
      ]
    },
    {
      "cell_type": "code",
      "execution_count": 32,
      "metadata": {
        "id": "mojEmFvZ7CUW"
      },
      "outputs": [],
      "source": [
        "from sklearn.feature_extraction.text import CountVectorizer, HashingVectorizer\n",
        "from sklearn.linear_model import LogisticRegression\n",
        "from sklearn.metrics import accuracy_score\n",
        "import xgboost as xgb\n",
        "from sklearn.preprocessing import LabelEncoder"
      ]
    },
    {
      "cell_type": "code",
      "execution_count": 41,
      "metadata": {
        "id": "Gp74WG5I7CUW"
      },
      "outputs": [],
      "source": [
        "le = LabelEncoder()\n",
        "train_enc_labels = le.fit_transform(train_label)"
      ]
    },
    {
      "cell_type": "code",
      "execution_count": 42,
      "metadata": {
        "id": "uV-0WahY7CUW"
      },
      "outputs": [],
      "source": [
        "test_enc_labels = le.transform(test_label)"
      ]
    },
    {
      "cell_type": "code",
      "execution_count": 43,
      "metadata": {
        "id": "0c9z0QR57CUW",
        "outputId": "3f722c66-91c3-41da-b9a8-0c2701481013",
        "colab": {
          "base_uri": "https://localhost:8080/"
        }
      },
      "outputs": [
        {
          "output_type": "execute_result",
          "data": {
            "text/plain": [
              "array(['ADJ', 'ADP', 'ADV', 'AUX', 'CCONJ', 'DET', 'INTJ', 'NOUN',\n",
              "       'NO_TAG', 'NUM', 'PART', 'PRON', 'PROPN', 'PUNCT', 'SCONJ', 'SYM',\n",
              "       'VERB', 'X'], dtype='<U6')"
            ]
          },
          "metadata": {},
          "execution_count": 43
        }
      ],
      "source": [
        "le.classes_"
      ]
    },
    {
      "cell_type": "code",
      "execution_count": 95,
      "metadata": {
        "id": "30LxGXwb7CUX"
      },
      "outputs": [],
      "source": [
        "hvectorizer = HashingVectorizer(ngram_range=(1, 3), analyzer='char', n_features=100)"
      ]
    },
    {
      "cell_type": "code",
      "execution_count": 96,
      "metadata": {
        "id": "9Yzs6Zek7CUX"
      },
      "outputs": [],
      "source": [
        "X_train = hvectorizer.fit_transform(train_tok)"
      ]
    },
    {
      "cell_type": "code",
      "execution_count": 97,
      "metadata": {
        "id": "ZpdPxNyS7CUX"
      },
      "outputs": [],
      "source": [
        "X_test = hvectorizer.transform(test_tok)"
      ]
    },
    {
      "cell_type": "code",
      "execution_count": 98,
      "metadata": {
        "id": "PDG2BESU7CUX",
        "outputId": "80b7a82e-ee1d-4890-d2ed-cfd86789f638",
        "colab": {
          "base_uri": "https://localhost:8080/"
        }
      },
      "outputs": [
        {
          "output_type": "execute_result",
          "data": {
            "text/plain": [
              "(153590, 100)"
            ]
          },
          "metadata": {},
          "execution_count": 98
        }
      ],
      "source": [
        "X_train.shape"
      ]
    },
    {
      "cell_type": "code",
      "execution_count": 99,
      "metadata": {
        "id": "Jr2xstJw7CUX",
        "outputId": "9e60e40d-6351-4fa9-e276-24f76c4dc832",
        "colab": {
          "base_uri": "https://localhost:8080/"
        }
      },
      "outputs": [
        {
          "output_type": "stream",
          "name": "stderr",
          "text": [
            "/usr/local/lib/python3.7/dist-packages/sklearn/linear_model/_logistic.py:818: ConvergenceWarning: lbfgs failed to converge (status=1):\n",
            "STOP: TOTAL NO. of ITERATIONS REACHED LIMIT.\n",
            "\n",
            "Increase the number of iterations (max_iter) or scale the data as shown in:\n",
            "    https://scikit-learn.org/stable/modules/preprocessing.html\n",
            "Please also refer to the documentation for alternative solver options:\n",
            "    https://scikit-learn.org/stable/modules/linear_model.html#logistic-regression\n",
            "  extra_warning_msg=_LOGISTIC_SOLVER_CONVERGENCE_MSG,\n"
          ]
        },
        {
          "output_type": "execute_result",
          "data": {
            "text/plain": [
              "LogisticRegression(max_iter=10, random_state=0)"
            ]
          },
          "metadata": {},
          "execution_count": 99
        }
      ],
      "source": [
        "lr = LogisticRegression(random_state=0, max_iter=10)\n",
        "lr.fit(X_train, train_enc_labels)"
      ]
    },
    {
      "cell_type": "code",
      "execution_count": 100,
      "metadata": {
        "id": "5nFTTBCO7CUY"
      },
      "outputs": [],
      "source": [
        "pred = lr.predict(X_test)"
      ]
    },
    {
      "cell_type": "code",
      "execution_count": 101,
      "metadata": {
        "id": "cQ9WDsvT7CUY",
        "outputId": "47f15622-e2b5-47c6-b173-a241274a7421",
        "colab": {
          "base_uri": "https://localhost:8080/"
        }
      },
      "outputs": [
        {
          "output_type": "execute_result",
          "data": {
            "text/plain": [
              "0.5918549384725568"
            ]
          },
          "metadata": {},
          "execution_count": 101
        }
      ],
      "source": [
        "accuracy_score(test_enc_labels, pred)"
      ]
    },
    {
      "cell_type": "code",
      "source": [
        "nltk.download('averaged_perceptron_tagger_ru')"
      ],
      "metadata": {
        "colab": {
          "base_uri": "https://localhost:8080/"
        },
        "id": "aYlzIG0kFjSm",
        "outputId": "0518871d-79f5-4077-9dcf-35e4a30d3d18"
      },
      "execution_count": 112,
      "outputs": [
        {
          "output_type": "stream",
          "name": "stdout",
          "text": [
            "[nltk_data] Downloading package averaged_perceptron_tagger_ru to\n",
            "[nltk_data]     /root/nltk_data...\n",
            "[nltk_data]   Unzipping taggers/averaged_perceptron_tagger_ru.zip.\n"
          ]
        },
        {
          "output_type": "execute_result",
          "data": {
            "text/plain": [
              "True"
            ]
          },
          "metadata": {},
          "execution_count": 112
        }
      ]
    },
    {
      "cell_type": "code",
      "source": [
        "nltk.pos_tag(fdata_sent_train[1], lang='rus')"
      ],
      "metadata": {
        "colab": {
          "base_uri": "https://localhost:8080/"
        },
        "id": "GK0KXkJEFZn1",
        "outputId": "c9455a74-31e9-4294-a5bd-7dcbd2cc3f5d"
      },
      "execution_count": 113,
      "outputs": [
        {
          "output_type": "execute_result",
          "data": {
            "text/plain": [
              "[('В', 'PR'),\n",
              " ('старой', 'A=f'),\n",
              " ('трактовке', 'S'),\n",
              " ('вместо', 'PR'),\n",
              " ('слова', 'S'),\n",
              " ('\"', 'NONLEX'),\n",
              " ('порядок', 'S'),\n",
              " ('\"', 'NONLEX'),\n",
              " ('использовалось', 'V'),\n",
              " ('слово', 'S'),\n",
              " ('\"', 'NONLEX'),\n",
              " ('последовательность', 'S'),\n",
              " ('\"', 'NONLEX'),\n",
              " (',', 'NONLEX'),\n",
              " ('но', 'CONJ'),\n",
              " ('по', 'PR'),\n",
              " ('мере', 'S'),\n",
              " ('развития', 'S'),\n",
              " ('параллельности', 'S'),\n",
              " ('в', 'PR'),\n",
              " ('работе', 'S'),\n",
              " ('компьютеров', 'S'),\n",
              " ('слово', 'S'),\n",
              " ('\"', 'NONLEX'),\n",
              " ('последовательность', 'S'),\n",
              " ('\"', 'NONLEX'),\n",
              " ('стали', 'V'),\n",
              " ('заменять', 'V'),\n",
              " ('более', 'ADV'),\n",
              " ('общим', 'A=n'),\n",
              " ('словом', 'S'),\n",
              " ('\"', 'NONLEX'),\n",
              " ('порядок', 'S'),\n",
              " ('\"', 'NONLEX'),\n",
              " ('.', 'NONLEX')]"
            ]
          },
          "metadata": {},
          "execution_count": 113
        }
      ]
    }
  ],
  "metadata": {
    "kernelspec": {
      "display_name": "Python 3",
      "language": "python",
      "name": "python3"
    },
    "language_info": {
      "codemirror_mode": {
        "name": "ipython",
        "version": 3
      },
      "file_extension": ".py",
      "mimetype": "text/x-python",
      "name": "python",
      "nbconvert_exporter": "python",
      "pygments_lexer": "ipython3",
      "version": "3.8.3"
    },
    "colab": {
      "name": "HW8.ipynb",
      "provenance": []
    }
  },
  "nbformat": 4,
  "nbformat_minor": 0
}